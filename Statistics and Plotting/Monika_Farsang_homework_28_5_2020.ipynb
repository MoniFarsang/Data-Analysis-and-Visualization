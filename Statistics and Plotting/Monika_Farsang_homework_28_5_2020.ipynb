{
 "cells": [
  {
   "cell_type": "markdown",
   "metadata": {},
   "source": [
    "# <center> Basic Statistics and Plotting\n",
    "\n",
    "<center> 28.5.2020\n",
    "\n",
    "<center> Mónika Farsang"
   ]
  },
  {
   "cell_type": "markdown",
   "metadata": {},
   "source": [
    "### Importing libraries"
   ]
  },
  {
   "cell_type": "code",
   "execution_count": 1,
   "metadata": {},
   "outputs": [],
   "source": [
    "import pandas as pd\n",
    "import numpy as np\n",
    "import matplotlib.pyplot as plt\n",
    "%matplotlib inline"
   ]
  },
  {
   "cell_type": "markdown",
   "metadata": {},
   "source": [
    "### Loading data"
   ]
  },
  {
   "cell_type": "code",
   "execution_count": 2,
   "metadata": {},
   "outputs": [
    {
     "data": {
      "text/html": [
       "<div>\n",
       "<style scoped>\n",
       "    .dataframe tbody tr th:only-of-type {\n",
       "        vertical-align: middle;\n",
       "    }\n",
       "\n",
       "    .dataframe tbody tr th {\n",
       "        vertical-align: top;\n",
       "    }\n",
       "\n",
       "    .dataframe thead th {\n",
       "        text-align: right;\n",
       "    }\n",
       "</style>\n",
       "<table border=\"1\" class=\"dataframe\">\n",
       "  <thead>\n",
       "    <tr style=\"text-align: right;\">\n",
       "      <th></th>\n",
       "      <th>Year for temperature difference</th>\n",
       "      <th>Annual temp difference (°C)</th>\n",
       "      <th>Annual temp difference smooth (°C)</th>\n",
       "      <th>Year.Month for CO2</th>\n",
       "      <th>CO2 (ppm)</th>\n",
       "      <th>Year for Arctic sea ice extent</th>\n",
       "      <th>Arctic sea ice extent (million square km)</th>\n",
       "      <th>Person ID number</th>\n",
       "      <th>Gender</th>\n",
       "      <th>Daily fruit/veggies</th>\n",
       "      <th>Daily stress (0-5)</th>\n",
       "      <th>Number of close friends</th>\n",
       "      <th>Number of social interactions per day</th>\n",
       "      <th>Sleeping hours</th>\n",
       "    </tr>\n",
       "  </thead>\n",
       "  <tbody>\n",
       "    <tr>\n",
       "      <th>0</th>\n",
       "      <td>1880.0</td>\n",
       "      <td>-0.16</td>\n",
       "      <td>-0.09</td>\n",
       "      <td>1958.03.01</td>\n",
       "      <td>314.62</td>\n",
       "      <td>1979.0</td>\n",
       "      <td>7.05</td>\n",
       "      <td>10001.0</td>\n",
       "      <td>Female</td>\n",
       "      <td>3.0</td>\n",
       "      <td>2.0</td>\n",
       "      <td>5.0</td>\n",
       "      <td>5.0</td>\n",
       "      <td>7.0</td>\n",
       "    </tr>\n",
       "    <tr>\n",
       "      <th>1</th>\n",
       "      <td>1881.0</td>\n",
       "      <td>-0.08</td>\n",
       "      <td>-0.12</td>\n",
       "      <td>1958.04.01</td>\n",
       "      <td>315.29</td>\n",
       "      <td>1980.0</td>\n",
       "      <td>7.67</td>\n",
       "      <td>10002.0</td>\n",
       "      <td>Female</td>\n",
       "      <td>2.0</td>\n",
       "      <td>3.0</td>\n",
       "      <td>3.0</td>\n",
       "      <td>10.0</td>\n",
       "      <td>8.0</td>\n",
       "    </tr>\n",
       "    <tr>\n",
       "      <th>2</th>\n",
       "      <td>1882.0</td>\n",
       "      <td>-0.10</td>\n",
       "      <td>-0.16</td>\n",
       "      <td>1958.05.01</td>\n",
       "      <td>314.71</td>\n",
       "      <td>1981.0</td>\n",
       "      <td>7.14</td>\n",
       "      <td>10003.0</td>\n",
       "      <td>Female</td>\n",
       "      <td>2.0</td>\n",
       "      <td>3.0</td>\n",
       "      <td>4.0</td>\n",
       "      <td>10.0</td>\n",
       "      <td>8.0</td>\n",
       "    </tr>\n",
       "    <tr>\n",
       "      <th>3</th>\n",
       "      <td>1883.0</td>\n",
       "      <td>-0.16</td>\n",
       "      <td>-0.19</td>\n",
       "      <td>1958.06.01</td>\n",
       "      <td>314.85</td>\n",
       "      <td>1982.0</td>\n",
       "      <td>7.30</td>\n",
       "      <td>10004.0</td>\n",
       "      <td>Female</td>\n",
       "      <td>3.0</td>\n",
       "      <td>3.0</td>\n",
       "      <td>3.0</td>\n",
       "      <td>7.0</td>\n",
       "      <td>5.0</td>\n",
       "    </tr>\n",
       "    <tr>\n",
       "      <th>4</th>\n",
       "      <td>1884.0</td>\n",
       "      <td>-0.28</td>\n",
       "      <td>-0.23</td>\n",
       "      <td>1958.07.01</td>\n",
       "      <td>314.98</td>\n",
       "      <td>1983.0</td>\n",
       "      <td>7.39</td>\n",
       "      <td>10005.0</td>\n",
       "      <td>Female</td>\n",
       "      <td>5.0</td>\n",
       "      <td>1.0</td>\n",
       "      <td>3.0</td>\n",
       "      <td>4.0</td>\n",
       "      <td>7.0</td>\n",
       "    </tr>\n",
       "    <tr>\n",
       "      <th>...</th>\n",
       "      <td>...</td>\n",
       "      <td>...</td>\n",
       "      <td>...</td>\n",
       "      <td>...</td>\n",
       "      <td>...</td>\n",
       "      <td>...</td>\n",
       "      <td>...</td>\n",
       "      <td>...</td>\n",
       "      <td>...</td>\n",
       "      <td>...</td>\n",
       "      <td>...</td>\n",
       "      <td>...</td>\n",
       "      <td>...</td>\n",
       "      <td>...</td>\n",
       "    </tr>\n",
       "    <tr>\n",
       "      <th>741</th>\n",
       "      <td>NaN</td>\n",
       "      <td>NaN</td>\n",
       "      <td>NaN</td>\n",
       "      <td>2019.12.01</td>\n",
       "      <td>412.44</td>\n",
       "      <td>NaN</td>\n",
       "      <td>NaN</td>\n",
       "      <td>NaN</td>\n",
       "      <td>NaN</td>\n",
       "      <td>NaN</td>\n",
       "      <td>NaN</td>\n",
       "      <td>NaN</td>\n",
       "      <td>NaN</td>\n",
       "      <td>NaN</td>\n",
       "    </tr>\n",
       "    <tr>\n",
       "      <th>742</th>\n",
       "      <td>NaN</td>\n",
       "      <td>NaN</td>\n",
       "      <td>NaN</td>\n",
       "      <td>2020.01.01</td>\n",
       "      <td>413.07</td>\n",
       "      <td>NaN</td>\n",
       "      <td>NaN</td>\n",
       "      <td>NaN</td>\n",
       "      <td>NaN</td>\n",
       "      <td>NaN</td>\n",
       "      <td>NaN</td>\n",
       "      <td>NaN</td>\n",
       "      <td>NaN</td>\n",
       "      <td>NaN</td>\n",
       "    </tr>\n",
       "    <tr>\n",
       "      <th>743</th>\n",
       "      <td>NaN</td>\n",
       "      <td>NaN</td>\n",
       "      <td>NaN</td>\n",
       "      <td>2020.02.01</td>\n",
       "      <td>413.26</td>\n",
       "      <td>NaN</td>\n",
       "      <td>NaN</td>\n",
       "      <td>NaN</td>\n",
       "      <td>NaN</td>\n",
       "      <td>NaN</td>\n",
       "      <td>NaN</td>\n",
       "      <td>NaN</td>\n",
       "      <td>NaN</td>\n",
       "      <td>NaN</td>\n",
       "    </tr>\n",
       "    <tr>\n",
       "      <th>744</th>\n",
       "      <td>NaN</td>\n",
       "      <td>NaN</td>\n",
       "      <td>NaN</td>\n",
       "      <td>2020.03.01</td>\n",
       "      <td>413.02</td>\n",
       "      <td>NaN</td>\n",
       "      <td>NaN</td>\n",
       "      <td>NaN</td>\n",
       "      <td>NaN</td>\n",
       "      <td>NaN</td>\n",
       "      <td>NaN</td>\n",
       "      <td>NaN</td>\n",
       "      <td>NaN</td>\n",
       "      <td>NaN</td>\n",
       "    </tr>\n",
       "    <tr>\n",
       "      <th>745</th>\n",
       "      <td>NaN</td>\n",
       "      <td>NaN</td>\n",
       "      <td>NaN</td>\n",
       "      <td>2020.04.01</td>\n",
       "      <td>413.38</td>\n",
       "      <td>NaN</td>\n",
       "      <td>NaN</td>\n",
       "      <td>NaN</td>\n",
       "      <td>NaN</td>\n",
       "      <td>NaN</td>\n",
       "      <td>NaN</td>\n",
       "      <td>NaN</td>\n",
       "      <td>NaN</td>\n",
       "      <td>NaN</td>\n",
       "    </tr>\n",
       "  </tbody>\n",
       "</table>\n",
       "<p>746 rows × 14 columns</p>\n",
       "</div>"
      ],
      "text/plain": [
       "     Year for temperature difference  Annual temp difference (°C)  \\\n",
       "0                             1880.0                        -0.16   \n",
       "1                             1881.0                        -0.08   \n",
       "2                             1882.0                        -0.10   \n",
       "3                             1883.0                        -0.16   \n",
       "4                             1884.0                        -0.28   \n",
       "..                               ...                          ...   \n",
       "741                              NaN                          NaN   \n",
       "742                              NaN                          NaN   \n",
       "743                              NaN                          NaN   \n",
       "744                              NaN                          NaN   \n",
       "745                              NaN                          NaN   \n",
       "\n",
       "     Annual temp difference smooth (°C) Year.Month for CO2  CO2 (ppm)  \\\n",
       "0                                 -0.09         1958.03.01     314.62   \n",
       "1                                 -0.12         1958.04.01     315.29   \n",
       "2                                 -0.16         1958.05.01     314.71   \n",
       "3                                 -0.19         1958.06.01     314.85   \n",
       "4                                 -0.23         1958.07.01     314.98   \n",
       "..                                  ...                ...        ...   \n",
       "741                                 NaN         2019.12.01     412.44   \n",
       "742                                 NaN         2020.01.01     413.07   \n",
       "743                                 NaN         2020.02.01     413.26   \n",
       "744                                 NaN         2020.03.01     413.02   \n",
       "745                                 NaN         2020.04.01     413.38   \n",
       "\n",
       "     Year for Arctic sea ice extent  \\\n",
       "0                            1979.0   \n",
       "1                            1980.0   \n",
       "2                            1981.0   \n",
       "3                            1982.0   \n",
       "4                            1983.0   \n",
       "..                              ...   \n",
       "741                             NaN   \n",
       "742                             NaN   \n",
       "743                             NaN   \n",
       "744                             NaN   \n",
       "745                             NaN   \n",
       "\n",
       "     Arctic sea ice extent (million square km)  Person ID number  Gender  \\\n",
       "0                                         7.05           10001.0  Female   \n",
       "1                                         7.67           10002.0  Female   \n",
       "2                                         7.14           10003.0  Female   \n",
       "3                                         7.30           10004.0  Female   \n",
       "4                                         7.39           10005.0  Female   \n",
       "..                                         ...               ...     ...   \n",
       "741                                        NaN               NaN     NaN   \n",
       "742                                        NaN               NaN     NaN   \n",
       "743                                        NaN               NaN     NaN   \n",
       "744                                        NaN               NaN     NaN   \n",
       "745                                        NaN               NaN     NaN   \n",
       "\n",
       "     Daily fruit/veggies  Daily stress (0-5)  Number of close friends  \\\n",
       "0                    3.0                 2.0                      5.0   \n",
       "1                    2.0                 3.0                      3.0   \n",
       "2                    2.0                 3.0                      4.0   \n",
       "3                    3.0                 3.0                      3.0   \n",
       "4                    5.0                 1.0                      3.0   \n",
       "..                   ...                 ...                      ...   \n",
       "741                  NaN                 NaN                      NaN   \n",
       "742                  NaN                 NaN                      NaN   \n",
       "743                  NaN                 NaN                      NaN   \n",
       "744                  NaN                 NaN                      NaN   \n",
       "745                  NaN                 NaN                      NaN   \n",
       "\n",
       "     Number of social interactions per day  Sleeping hours  \n",
       "0                                      5.0             7.0  \n",
       "1                                     10.0             8.0  \n",
       "2                                     10.0             8.0  \n",
       "3                                      7.0             5.0  \n",
       "4                                      4.0             7.0  \n",
       "..                                     ...             ...  \n",
       "741                                    NaN             NaN  \n",
       "742                                    NaN             NaN  \n",
       "743                                    NaN             NaN  \n",
       "744                                    NaN             NaN  \n",
       "745                                    NaN             NaN  \n",
       "\n",
       "[746 rows x 14 columns]"
      ]
     },
     "execution_count": 2,
     "metadata": {},
     "output_type": "execute_result"
    }
   ],
   "source": [
    "file = \"Monika_Farsang_dataset.csv\"\n",
    "df = pd.read_csv(file)\n",
    "df"
   ]
  },
  {
   "cell_type": "markdown",
   "metadata": {},
   "source": [
    "### Mean"
   ]
  },
  {
   "cell_type": "code",
   "execution_count": null,
   "metadata": {},
   "outputs": [],
   "source": [
    "#using mean on each column\n",
    "df.mean()"
   ]
  },
  {
   "cell_type": "code",
   "execution_count": null,
   "metadata": {},
   "outputs": [],
   "source": [
    "#using mean on column Number of close friends\n",
    "mean_friends = df[\"Number of close friends\"].mean()\n",
    "print(mean_friends)"
   ]
  },
  {
   "cell_type": "markdown",
   "metadata": {},
   "source": [
    "### Median"
   ]
  },
  {
   "cell_type": "code",
   "execution_count": null,
   "metadata": {},
   "outputs": [],
   "source": [
    "#get the median on Number of close friends\n",
    "median_friends = df[\"Number of close friends\"].median()\n",
    "print(median_friends)"
   ]
  },
  {
   "cell_type": "markdown",
   "metadata": {},
   "source": [
    "### Mode"
   ]
  },
  {
   "cell_type": "code",
   "execution_count": null,
   "metadata": {},
   "outputs": [],
   "source": [
    "#get the mode on Number of close friends\n",
    "mode_friends = df[\"Number of close friends\"].mode()\n",
    "print(mode_friends)"
   ]
  },
  {
   "cell_type": "markdown",
   "metadata": {},
   "source": [
    "### Moving average"
   ]
  },
  {
   "cell_type": "code",
   "execution_count": null,
   "metadata": {},
   "outputs": [],
   "source": [
    "#using the column CO2 (ppm)\n",
    "#CO2 (ppm) without any modification\n",
    "print(df[\"CO2 (ppm)\"])"
   ]
  },
  {
   "cell_type": "code",
   "execution_count": null,
   "metadata": {},
   "outputs": [],
   "source": [
    "#CO2 (ppm) with rolling average with window size 2\n",
    "rolling_mean_CO2=df[\"CO2 (ppm)\"].rolling(window=2, min_periods=1).mean()\n",
    "print(rolling_mean_CO2)"
   ]
  },
  {
   "cell_type": "markdown",
   "metadata": {},
   "source": [
    "### Standard deviation"
   ]
  },
  {
   "cell_type": "code",
   "execution_count": null,
   "metadata": {},
   "outputs": [],
   "source": [
    "#Standart deviation for the whole data set\n",
    "df_std = np.std(df)\n",
    "print(df_std)"
   ]
  },
  {
   "cell_type": "code",
   "execution_count": null,
   "metadata": {},
   "outputs": [],
   "source": [
    "#Standart deviation for the \n",
    "daily_stress = np.std(df[\"Daily stress (0-5)\"])\n",
    "print(daily_stress)"
   ]
  },
  {
   "cell_type": "markdown",
   "metadata": {},
   "source": [
    "### Minimum"
   ]
  },
  {
   "cell_type": "code",
   "execution_count": null,
   "metadata": {},
   "outputs": [],
   "source": [
    "#Minimum of Number of social interactions per day\n",
    "min(df[\"Number of social interactions per day\"])"
   ]
  },
  {
   "cell_type": "markdown",
   "metadata": {},
   "source": [
    "### Maximum"
   ]
  },
  {
   "cell_type": "code",
   "execution_count": null,
   "metadata": {},
   "outputs": [],
   "source": [
    "#Maximum of Number of social interactions per day\n",
    "max(df[\"Number of social interactions per day\"])"
   ]
  },
  {
   "cell_type": "markdown",
   "metadata": {},
   "source": [
    "### Quartile"
   ]
  },
  {
   "cell_type": "code",
   "execution_count": null,
   "metadata": {},
   "outputs": [],
   "source": [
    "#Summary about the whole dataset with the quartile values\n",
    "df.describe()"
   ]
  },
  {
   "cell_type": "markdown",
   "metadata": {},
   "source": [
    "### Sum"
   ]
  },
  {
   "cell_type": "code",
   "execution_count": null,
   "metadata": {},
   "outputs": [],
   "source": [
    "#Sum of Sleeping hours (this column has NaN values)\n",
    "np.nansum(df[\"Sleeping hours\"]) "
   ]
  },
  {
   "cell_type": "markdown",
   "metadata": {},
   "source": [
    "### Cumulative sum"
   ]
  },
  {
   "cell_type": "code",
   "execution_count": null,
   "metadata": {},
   "outputs": [],
   "source": [
    "#Create cumulative sum for Daily fruit/veggies, Number of close friends, Sleeping hours\n",
    "cumsum_columns = df[[\"Daily fruit/veggies\", \"Number of close friends\", \"Sleeping hours\"]]\n",
    "\n",
    "cumsum_habits = np.cumsum(cumsum_columns, axis = 0)\n",
    "print(cumsum_habits)"
   ]
  },
  {
   "cell_type": "markdown",
   "metadata": {},
   "source": [
    "### Counting/length"
   ]
  },
  {
   "cell_type": "code",
   "execution_count": null,
   "metadata": {},
   "outputs": [],
   "source": [
    "#We want to know how many people sleep more than 8 hours \n",
    "df_sleep = df[\"Sleeping hours\"]\n",
    "len(df_sleep[df_sleep > 8])"
   ]
  },
  {
   "cell_type": "markdown",
   "metadata": {},
   "source": [
    "### Variance"
   ]
  },
  {
   "cell_type": "code",
   "execution_count": null,
   "metadata": {},
   "outputs": [],
   "source": [
    "#Variance of the Sleeping hours\n",
    "np.nanvar(df[\"Sleeping hours\"])"
   ]
  },
  {
   "cell_type": "markdown",
   "metadata": {},
   "source": [
    "### Covariance"
   ]
  },
  {
   "cell_type": "code",
   "execution_count": null,
   "metadata": {},
   "outputs": [],
   "source": [
    "#Get the covariance between the Daily stress and the Sleeping hours\n",
    "#Covanriance matrix as a dataframe\n",
    "cov = df[[\"Daily stress (0-5)\" , \"Sleeping hours\"]].cov()\n",
    "\n",
    "#Get the covariance value\n",
    "cov[\"Daily stress (0-5)\"][\"Sleeping hours\"]"
   ]
  },
  {
   "cell_type": "markdown",
   "metadata": {},
   "source": [
    "### Pivot table"
   ]
  },
  {
   "cell_type": "code",
   "execution_count": null,
   "metadata": {},
   "outputs": [],
   "source": [
    "#Pivot table to get information about temperature difference during the years\n",
    "pivot1 = df.pivot_table(values = \"Annual temp difference (°C)\", index= \"Year for temperature difference\")\n",
    "print(pivot1)"
   ]
  },
  {
   "cell_type": "code",
   "execution_count": null,
   "metadata": {},
   "outputs": [],
   "source": [
    "# Pivot on two variables, to get information on the relationship of Daily stress and Daily fruit/veggies along the different people\n",
    "pivot2 = df.pivot_table(values= 'Daily fruit/veggies', index='Person ID number', columns='Daily stress (0-5)')\n",
    "print(pivot2)"
   ]
  },
  {
   "cell_type": "markdown",
   "metadata": {},
   "source": [
    "### Histogramm"
   ]
  },
  {
   "cell_type": "code",
   "execution_count": null,
   "metadata": {},
   "outputs": [],
   "source": [
    "#Frequency of Number of close friends by dividing it into 5 bins\n",
    "friends = df[\"Number of close friends\"]\n",
    "friends_without_nan = friends[~np.isnan(friends)]\n",
    "plt.hist(friends_without_nan, 5)\n",
    "plt.show()"
   ]
  },
  {
   "cell_type": "markdown",
   "metadata": {},
   "source": [
    "### Bar plot"
   ]
  },
  {
   "cell_type": "code",
   "execution_count": null,
   "metadata": {},
   "outputs": [],
   "source": [
    "#Bar plot of Annual temp difference (°C) during the years\n",
    "plt.bar(df[\"Year for temperature difference\"], df[\"Annual temp difference (°C)\"])\n",
    "\n",
    "# Changing the labels\n",
    "plt.xlabel(\"Year\")  \n",
    "plt.ylabel(\"Annual temp difference (°C)\")\n",
    "plt.show() "
   ]
  },
  {
   "cell_type": "markdown",
   "metadata": {},
   "source": [
    "### Box plot"
   ]
  },
  {
   "cell_type": "code",
   "execution_count": null,
   "metadata": {},
   "outputs": [],
   "source": [
    "#Daily fruit/veggies, Daily stress (0-5), Number of close friends, Number of social interactions per day, Sleeping hours\n",
    "fruit=df[\"Daily fruit/veggies\"]  \n",
    "data1 = fruit[~np.isnan(fruit)]\n",
    "\n",
    "stress = df[\"Daily stress (0-5)\"]\n",
    "data2 = stress[~np.isnan(stress)]\n",
    "\n",
    "friends=df[\"Number of close friends\"]  \n",
    "data3 = friends[~np.isnan(friends)]\n",
    "\n",
    "social=df[\"Number of social interactions per day\"]  \n",
    "data4 = social[~np.isnan(social)]\n",
    "\n",
    "sleep=df[\"Sleeping hours\"]  \n",
    "data5 = sleep[~np.isnan(sleep)]\n",
    "\n",
    "box_plot_data=[data1, data2, data3, data4, data5]\n",
    "plt.boxplot(box_plot_data, labels=[\"fruit\",\"stress\",\"friends\",\"social\",\"sleep\"])\n",
    "\n",
    "plt.show()"
   ]
  },
  {
   "cell_type": "markdown",
   "metadata": {},
   "source": [
    "### Line plot"
   ]
  },
  {
   "cell_type": "code",
   "execution_count": 3,
   "metadata": {},
   "outputs": [
    {
     "data": {
      "image/png": "[encoded data removed]",
      "text/plain": [
       "<Figure size 432x288 with 1 Axes>"
      ]
     },
     "metadata": {
      "needs_background": "light"
     },
     "output_type": "display_data"
    }
   ],
   "source": [
    "#Line plot for the Annual temperature difference and the Annual temperature difference smooth during the years\n",
    "plt.plot(df[\"Year for temperature difference\"], df[\"Annual temp difference (°C)\"], color= \"green\", linewidth=3, alpha = 0.6, label='Annual temp difference')\n",
    "plt.plot(df[\"Year for temperature difference\"], df[\"Annual temp difference smooth (°C)\"], color= \"blue\", linewidth=1, label='Annual temp difference smooth')\n",
    "plt.xlabel('Year')  \n",
    "plt.ylabel('Temperature difference in °C')\n",
    "plt.legend() \n",
    "\n",
    "#Saving figure to my report\n",
    "plt.savefig('TempDiff.png', dpi=300, bbox_inches='tight')\n",
    "\n",
    "plt.show()"
   ]
  },
  {
   "cell_type": "code",
   "execution_count": null,
   "metadata": {},
   "outputs": [],
   "source": [
    "#Line plot for the CO2 concentration\n",
    "date = pd.to_datetime(df[\"Year.Month for CO2\"], format=\"%Y.%m.%d\")\n",
    "plt.plot(date, df[\"CO2 (ppm)\"], color= \"black\", label='Annual temp difference')\n",
    "plt.xlabel('Year')  \n",
    "plt.ylabel('CO2 (ppm)')\n",
    "plt.show()"
   ]
  },
  {
   "cell_type": "code",
   "execution_count": null,
   "metadata": {},
   "outputs": [],
   "source": [
    "#Line plot for the Arctic sea ice extent\n",
    "plt.plot(df[\"Year for Arctic sea ice extent\"], df[\"Arctic sea ice extent (million square km)\"], color= \"blue\", label='Annual temp difference')\n",
    "plt.xlabel('Year')  \n",
    "plt.ylabel('Arctic sea ice extent (million square km)')\n",
    "plt.show()"
   ]
  },
  {
   "cell_type": "markdown",
   "metadata": {},
   "source": [
    "### Scatter plot"
   ]
  },
  {
   "cell_type": "code",
   "execution_count": 4,
   "metadata": {},
   "outputs": [
    {
     "data": {
      "image/png": "[encoded data removed]",
      "text/plain": [
       "<Figure size 432x288 with 1 Axes>"
      ]
     },
     "metadata": {
      "needs_background": "light"
     },
     "output_type": "display_data"
    }
   ],
   "source": [
    "#Scatter plot to see the connection between Daily stress and Sleeping hours\n",
    "#From this plot we can see that with 3, 4, 5 hours sleep time the daily stress is always higher than zero (except in one case with 4 hours and 0 stress)\n",
    "plt.scatter(df[\"Daily stress (0-5)\"], df[\"Sleeping hours\"])\n",
    "plt.title('Relationship Daily stress/Sleeping hours')\n",
    "plt.xlabel('Daily stress')\n",
    "plt.ylabel('Sleeping hours')\n",
    "plt.show()"
   ]
  },
  {
   "cell_type": "code",
   "execution_count": 6,
   "metadata": {},
   "outputs": [
    {
     "data": {
      "image/png": "[encoded data removed]",
      "text/plain": [
       "<Figure size 432x288 with 1 Axes>"
      ]
     },
     "metadata": {
      "needs_background": "light"
     },
     "output_type": "display_data"
    }
   ],
   "source": [
    "#Get information about the impact of the large number of close friends on the number of daily social interactions\n",
    "#From this plot we can see that with more than 4 close friends, the number of daily interactions are at least 1\n",
    "#Another interesting thing is that even with a small number of close friends you can get a high number of daily social interaction \n",
    "plt.scatter(df[\"Number of close friends\"], df[\"Number of social interactions per day\"], alpha=0.2)\n",
    "plt.title('Relationship Number of close friends/Number of social interactions per day')\n",
    "plt.xlabel('Number of close friends')\n",
    "plt.ylabel('Number of social interactions per day')\n",
    "plt.show()"
   ]
  }
 ],
 "metadata": {
  "kernelspec": {
   "display_name": "Python 3",
   "language": "python",
   "name": "python3"
  },
  "language_info": {
   "codemirror_mode": {
    "name": "ipython",
    "version": 3
   },
   "file_extension": ".py",
   "mimetype": "text/x-python",
   "name": "python",
   "nbconvert_exporter": "python",
   "pygments_lexer": "ipython3",
   "version": "3.7.6"
  }
 },
 "nbformat": 4,
 "nbformat_minor": 4
}
