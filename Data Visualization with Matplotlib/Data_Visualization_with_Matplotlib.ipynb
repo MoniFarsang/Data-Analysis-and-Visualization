{
 "cells": [
  {
   "cell_type": "markdown",
   "metadata": {},
   "source": [
    "# <center> Data Visualization with Matplotlib\n",
    "\n",
    "<center> 4.6.2020\n",
    "\n",
    "<center> Mónika Farsang"
   ]
  },
  {
   "cell_type": "markdown",
   "metadata": {},
   "source": [
    "### Importing libraries"
   ]
  },
  {
   "cell_type": "code",
   "execution_count": null,
   "metadata": {},
   "outputs": [],
   "source": [
    "import matplotlib.pyplot as plt\n",
    "import pandas as pd\n",
    "import numpy as np\n",
    "%matplotlib inline\n",
    "\n",
    "file = \"Monika_Farsang_dataset.csv\"\n",
    "df = pd.read_csv(file)\n",
    "df"
   ]
  },
  {
   "cell_type": "markdown",
   "metadata": {},
   "source": [
    "### Histogramm"
   ]
  },
  {
   "cell_type": "code",
   "execution_count": null,
   "metadata": {},
   "outputs": [],
   "source": [
    "y1=plt.hist(df[\"Number of social interactions per day\"], facecolor = \"lightblue\", edgecolor = \"blue\", bins = 10, cumulative=True)\n",
    "plt.show()"
   ]
  },
  {
   "cell_type": "markdown",
   "metadata": {},
   "source": [
    "The histogramm plot above shows the number of social interactions in a cumulative way."
   ]
  },
  {
   "cell_type": "code",
   "execution_count": null,
   "metadata": {},
   "outputs": [],
   "source": [
    "y2=plt.hist(df[\"Number of close friends\"], facecolor = \"lightgreen\", edgecolor = \"green\", bins = 10, range=(1, 10))\n",
    "plt.show()"
   ]
  },
  {
   "cell_type": "markdown",
   "metadata": {},
   "source": [
    "This histogramm plot give us information about the number of close friends in range from 1 to 10."
   ]
  },
  {
   "cell_type": "code",
   "execution_count": null,
   "metadata": {},
   "outputs": [],
   "source": [
    "plt.hist(df[\"Number of social interactions per day\"], facecolor = \"lightblue\", edgecolor = \"blue\", bins = 10, cumulative=True)\n",
    "plt.hist(df[\"Number of close friends\"], facecolor = \"lightgreen\", edgecolor = \"green\", bins = 10, range=(1, 10), alpha=0.5)\n",
    "plt.show()"
   ]
  },
  {
   "cell_type": "markdown",
   "metadata": {},
   "source": [
    "The multiple plot above displays the cumulative number of social interactions per day and the number of close friends in range from 1 to 10."
   ]
  },
  {
   "cell_type": "markdown",
   "metadata": {},
   "source": [
    "### Pie plot"
   ]
  },
  {
   "cell_type": "code",
   "execution_count": null,
   "metadata": {},
   "outputs": [],
   "source": [
    "from scipy import stats\n",
    "\n",
    "# Frequency of individual sleeping hours values\n",
    "freq_hours = stats.itemfreq(df[\"Sleeping hours\"])\n",
    "\n",
    "# Transform to DataFrame\n",
    "df1 = pd.DataFrame(freq_hours, columns=['Sleeping hours', 'Frequency'])\n",
    "F = df1['Frequency'].iloc[0:8]\n",
    "\n",
    "# Calculating percentage\n",
    "Frequency_hours = F *100/sum(F)"
   ]
  },
  {
   "cell_type": "code",
   "execution_count": null,
   "metadata": {},
   "outputs": [],
   "source": [
    "# Defining the labels\n",
    "labels = '0h', '1h³', '2h', '3h', '4h', '5h', '6h', '7h'\n",
    "\n",
    "# Defining the size of the slices\n",
    "sizes = Frequency_hours\n",
    "\n",
    "# Everything is plotted together\n",
    "fig1, ax1 = plt.subplots()\n",
    "ax1.pie(sizes, labels=labels, autopct='%1.1f%%', startangle=180)\n",
    "ax1.axis('equal')  \n",
    "plt.title(\"Sleeping hours over the submitted results\", y=1.1)\n",
    "plt.show()"
   ]
  },
  {
   "cell_type": "markdown",
   "metadata": {},
   "source": [
    "This pie plot shows the percentage of the sleeping hours from the responses of the people interviewed in the range from 0 hour to 7 hours."
   ]
  },
  {
   "cell_type": "markdown",
   "metadata": {},
   "source": [
    "### Line plot"
   ]
  },
  {
   "cell_type": "code",
   "execution_count": null,
   "metadata": {},
   "outputs": [],
   "source": [
    "# Defining the size of the whole figure\n",
    "fig = plt.figure(figsize = (10,6))\n",
    "\n",
    "ax1 = fig.add_axes([0,0,2,2])\n",
    "ax2 = fig.add_axes([0.1, 1.5, 1, 0.5])\n",
    "\n",
    "ax1.set_title(\"Temperature differences and Arctic sea ice extent\")\n",
    "\n",
    "# Attributes for large graph\n",
    "ax1.plot(df['Year for temperature difference'].iloc[99:141],\n",
    "        df['Annual temp difference (°C)'].iloc[99:141],\n",
    "        color = \"red\") \n",
    "ax1.set_xlabel(\"Year\")\n",
    "ax1.set_ylabel(\"relative °C\")\n",
    "\n",
    "\n",
    "# Attributes for insert graph\n",
    "ax2.plot(df['Year for Arctic sea ice extent'].iloc[0:401],\n",
    "        df['Arctic sea ice extent (million square km)'].iloc[0:401],\n",
    "        color = \"lightblue\")\n",
    "ax2.set_xlabel(\"Year\")\n",
    "ax2.set_ylabel(\"million square km\")\n",
    "\n",
    "plt.show()"
   ]
  },
  {
   "cell_type": "markdown",
   "metadata": {},
   "source": [
    "This line plots give us information about the relationship between the temperature differences and the Arctic sea ice extent from 1979 to 2020. It displays clearly that the rising temperature causes the decreasing of the ice extent at the Arctic sea."
   ]
  },
  {
   "cell_type": "code",
   "execution_count": null,
   "metadata": {},
   "outputs": [],
   "source": [
    "# Defining the size of the whole figure\n",
    "fig = plt.figure(figsize =(20,8))\n",
    "plt.suptitle(\"Environment\", fontsize = 18)\n",
    "\n",
    "# Creating plot ax1\n",
    "ax1 = fig.add_subplot(221)\n",
    "ax1.set_title(\"Annual temperature difference\")\n",
    "ax1.plot(df['Year for temperature difference'].iloc[99:141],\n",
    "        df['Annual temp difference (°C)'].iloc[99:141],\n",
    "        color = \"red\")\n",
    "ax1.plot(df['Year for temperature difference'].iloc[99:141],\n",
    "        df['Annual temp difference smooth (°C)'].iloc[99:141],\n",
    "        color = \"red\", linestyle=\"dashed\") \n",
    "ax1.set_xlabel(\"Year\")\n",
    "ax1.set_ylabel(\"relative °C\")\n",
    "# Insert horizontal line \n",
    "plt.axhline(y = 0, linewidth=1, color='darkred') \n",
    "\n",
    "# Creating plot ax2\n",
    "ax2 = fig.add_subplot(222)\n",
    "ax2.set_title(\"Arctic sea ice extent\")\n",
    "ax2.plot(df['Year for Arctic sea ice extent'].iloc[0:401],\n",
    "        df['Arctic sea ice extent (million square km)'].iloc[0:401],\n",
    "        color = \"lightblue\")\n",
    "ax2.set_xlabel(\"Year\")\n",
    "ax2.set_ylabel(\"million square km\")\n",
    "\n",
    "# Creating plot ax3 \n",
    "ax3 = fig.add_subplot(212)\n",
    "ax3.set_title(\"CO2 emission\")\n",
    "date = pd.to_datetime(df[\"Year.Month for CO2\"], format=\"%Y.%m.%d\")\n",
    "ax3.plot(date.iloc[-496:],\n",
    "        df['CO2 (ppm)'].iloc[-496:],\n",
    "        color = \"brown\")\n",
    "ax3.set_xlabel(\"Year\")\n",
    "ax3.set_ylabel(\"CO2 (ppm)\")\n",
    "\n",
    "plt.show()"
   ]
  },
  {
   "cell_type": "markdown",
   "metadata": {},
   "source": [
    "The lineplot above displays the environmental observations about the temperature differences, the Arctic sea ice extent and the CO2 emission from 1979 to 2020. As you can see, all three trends are interrelated."
   ]
  },
  {
   "cell_type": "markdown",
   "metadata": {},
   "source": [
    "### Boxplot and Violinplot"
   ]
  },
  {
   "cell_type": "code",
   "execution_count": null,
   "metadata": {},
   "outputs": [],
   "source": [
    "# Filtering data\n",
    "fruit=df[\"Daily fruit/veggies\"]  \n",
    "data1 = fruit[~np.isnan(fruit)]\n",
    "\n",
    "stress = df[\"Daily stress (0-5)\"]\n",
    "data2 = stress[~np.isnan(stress)]\n",
    "\n",
    "friends=df[\"Number of close friends\"]  \n",
    "data3 = friends[~np.isnan(friends)]\n",
    "\n",
    "social=df[\"Number of social interactions per day\"]  \n",
    "data4 = social[~np.isnan(social)]\n",
    "\n",
    "sleep=df[\"Sleeping hours\"]  \n",
    "data5 = sleep[~np.isnan(sleep)]\n",
    "\n",
    "# Assigning the boxplot data\n",
    "plt.figure(figsize =(10,6))\n",
    "box_plot_data=[data1, data2, data3, data4, data5]\n",
    "\n",
    "# Defining the colors\n",
    "colors = ['springgreen', 'turquoise', 'darkblue', 'cyan', 'lightblue']\n",
    "labels = [\"Fruit\",\"Stress\",\"Friends\",\"Social interaction\",\"Sleeping\"]\n",
    "\n",
    "bp = plt.boxplot(box_plot_data, labels= labels,\n",
    "                patch_artist = True, notch = True)\n",
    "\n",
    "for i in range(len(bp['boxes'])):\n",
    "    bp['boxes'][i].set(facecolor = colors[i])\n",
    "    bp['caps'][2*i + 1].set(color = colors[i])\n",
    "\n",
    "plt.show()"
   ]
  },
  {
   "cell_type": "markdown",
   "metadata": {},
   "source": [
    "The boxplot above gives information about the amount of daily fruit veggies, the daily stress, the number of close friends, the number of social interactions per day and the sleeping hours. Each box extends from the lower to upper quartile values of the given data with a line at the median. The whiskers extend from the box to show the range of our data."
   ]
  },
  {
   "cell_type": "code",
   "execution_count": null,
   "metadata": {},
   "outputs": [],
   "source": [
    "# Plotting violinplot\n",
    "plt.figure(figsize = (10,6))\n",
    "vp = plt.violinplot([data1, data2, data3, data4, data5], showmedians = True)\n",
    "plt.xticks([1,2,3,4,5], labels)\n",
    "for i in range(len(vp['bodies'])):\n",
    "    vp['bodies'][i].set(facecolor=colors[i])\n",
    "    \n",
    "plt.show()"
   ]
  },
  {
   "cell_type": "markdown",
   "metadata": {},
   "source": [
    "The violinplot above is similar to the boxplot above it, but it has a different form with the whole range of the data."
   ]
  },
  {
   "cell_type": "markdown",
   "metadata": {},
   "source": [
    "### Stack plot"
   ]
  },
  {
   "cell_type": "code",
   "execution_count": null,
   "metadata": {},
   "outputs": [],
   "source": [
    "# Applying the rolling mean in CO2 (ppm) with 5 window step\n",
    "rmean1=df['CO2 (ppm)'][0:175].rolling(window=5, min_periods=1).mean()\n",
    "rmean2=df['CO2 (ppm)'][175:350].rolling(window=5, min_periods=1).mean()\n",
    "rmean3=df['CO2 (ppm)'][350:525].rolling(window=5, min_periods=1).mean()\n",
    "rmean4=df['CO2 (ppm)'][525:700].rolling(window=5, min_periods=1).mean()\n",
    "\n",
    "plt.figure(figsize=(12, 6))\n",
    "x = df['Year.Month for CO2'][0:175]\n",
    "y = np.vstack([rmean1,rmean2,rmean3,rmean4])\n",
    "\n",
    "# Defining the labels\n",
    "labels = ['CO2 emission 1958-1972',\n",
    "         'CO2 emission 1972-1987',\n",
    "         'CO2 emission 1987-2001',\n",
    "         'CO2 emission 2001-2016']\n",
    "\n",
    "# Defining the colors\n",
    "colors = ['paleturquoise',\n",
    "          'turquoise',\n",
    "          'darkturquoise',\n",
    "          'lightblue']\n",
    "\n",
    "plt.stackplot(x, y, labels = labels, colors = colors, edgecolor = 'white')\n",
    "plt.tick_params(labelbottom=False)\n",
    "plt.title('CO2 emission over 14 years periods')\n",
    "plt.xlabel('14 years period')\n",
    "plt.ylabel('CO2 (ppm)')\n",
    "plt.legend(loc=8)\n",
    "plt.tight_layout()\n",
    "plt.show()"
   ]
  },
  {
   "cell_type": "markdown",
   "metadata": {},
   "source": [
    "This stack plot displays the CO2 emission over 14 years periods. It can be seen that the level of emissions has shown an increasing trend over the years."
   ]
  },
  {
   "cell_type": "markdown",
   "metadata": {},
   "source": [
    "### Stem plot"
   ]
  },
  {
   "cell_type": "code",
   "execution_count": null,
   "metadata": {},
   "outputs": [],
   "source": [
    "# Comparing parts of data about the sea ice extent\n",
    "ice_diff_9989_8979 = np.array(df['Arctic sea ice extent (million square km)'][10:20]) - np.array(df['Arctic sea ice extent (million square km)'][0:10])\n",
    "ice_diff_0999_9989 = np.array(df['Arctic sea ice extent (million square km)'][20:30]) - np.array(df['Arctic sea ice extent (million square km)'][10:20])\n",
    "ice_diff_1909_0999 = np.array(df['Arctic sea ice extent (million square km)'][30:40]) - np.array(df['Arctic sea ice extent (million square km)'][20:30])\n",
    "years = [i for i in range(10)]"
   ]
  },
  {
   "cell_type": "code",
   "execution_count": null,
   "metadata": {},
   "outputs": [],
   "source": [
    "plt.figure(figsize=(10,6))\n",
    "plt.suptitle('Arctic sea ice extent between 10 years periods', y=1.1, fontsize=15)\n",
    "\n",
    "# Creating the first subplot\n",
    "plt.subplot(311)\n",
    "plt.stem(years,\n",
    "         ice_diff_9989_8979,\n",
    "         markerfmt = 'g_',\n",
    "         linefmt = 'b--', \n",
    "         basefmt='r-') \n",
    "plt.title('Between the period 1989-1999 and 1989-1979')\n",
    "plt.xlabel('Years')\n",
    "plt.ylabel('Ice extent difference')\n",
    "\n",
    "# Creating the second subplot\n",
    "plt.subplot(312)\n",
    "plt.stem(years,\n",
    "         ice_diff_0999_9989,\n",
    "         markerfmt = 'g_',\n",
    "         linefmt = 'b--',\n",
    "         basefmt='r-')\n",
    "plt.title('Between the period 1999-2009 and 1989-1999')\n",
    "plt.xlabel('Years')\n",
    "plt.ylabel('Ice extent difference')\n",
    "\n",
    "# Creating the third subplot\n",
    "plt.subplot(313)\n",
    "plt.stem(years,\n",
    "         ice_diff_1909_0999,\n",
    "         markerfmt = 'g_',\n",
    "         linefmt = 'b--',\n",
    "         basefmt='r-')\n",
    "plt.title('Between the period 2009-2019 and 1999-2009')\n",
    "plt.xlabel('Years')\n",
    "plt.ylabel('Ice extent difference')\n",
    "\n",
    "plt.tight_layout()\n",
    "plt.show()"
   ]
  },
  {
   "cell_type": "markdown",
   "metadata": {},
   "source": [
    "The stem plot above shows the difference between the 10 years periods regarding the Arctic sea ice extent. It can be seen from it that for the most part the rate has decreased."
   ]
  }
 ],
 "metadata": {
  "kernelspec": {
   "display_name": "Python 3",
   "language": "python",
   "name": "python3"
  },
  "language_info": {
   "codemirror_mode": {
    "name": "ipython",
    "version": 3
   },
   "file_extension": ".py",
   "mimetype": "text/x-python",
   "name": "python",
   "nbconvert_exporter": "python",
   "pygments_lexer": "ipython3",
   "version": "3.7.6"
  }
 },
 "nbformat": 4,
 "nbformat_minor": 4
}
